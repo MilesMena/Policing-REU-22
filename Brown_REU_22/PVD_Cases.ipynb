{
 "cells": [
  {
   "cell_type": "code",
   "execution_count": 1,
   "id": "f131a966",
   "metadata": {},
   "outputs": [],
   "source": [
    "import pandas as pd"
   ]
  },
  {
   "cell_type": "code",
   "execution_count": 2,
   "id": "567cd5d2",
   "metadata": {},
   "outputs": [],
   "source": [
    "df_case = pd.read_csv('Providence_Police_Case_Log_-_Past_180_days.csv')"
   ]
  },
  {
   "cell_type": "code",
   "execution_count": 4,
   "id": "89161e9d",
   "metadata": {},
   "outputs": [
    {
     "data": {
      "text/html": [
       "<div>\n",
       "<style scoped>\n",
       "    .dataframe tbody tr th:only-of-type {\n",
       "        vertical-align: middle;\n",
       "    }\n",
       "\n",
       "    .dataframe tbody tr th {\n",
       "        vertical-align: top;\n",
       "    }\n",
       "\n",
       "    .dataframe thead th {\n",
       "        text-align: right;\n",
       "    }\n",
       "</style>\n",
       "<table border=\"1\" class=\"dataframe\">\n",
       "  <thead>\n",
       "    <tr style=\"text-align: right;\">\n",
       "      <th></th>\n",
       "      <th>CaseNumber</th>\n",
       "      <th>Location</th>\n",
       "      <th>Reported Date</th>\n",
       "      <th>Month</th>\n",
       "      <th>Year</th>\n",
       "      <th>Offense Desc</th>\n",
       "      <th>Statute Code</th>\n",
       "      <th>Statute Desc</th>\n",
       "      <th>Counts</th>\n",
       "      <th>Reporting Officer</th>\n",
       "    </tr>\n",
       "  </thead>\n",
       "  <tbody>\n",
       "    <tr>\n",
       "      <th>5694</th>\n",
       "      <td>2022-00043755</td>\n",
       "      <td>0 Block MONTICELLO ST</td>\n",
       "      <td>06/04/2022 12:12:00 AM</td>\n",
       "      <td>6</td>\n",
       "      <td>2022</td>\n",
       "      <td>Disorderly Conduct</td>\n",
       "      <td>11-45-1</td>\n",
       "      <td>DISORDERLY CONDUCT</td>\n",
       "      <td>1</td>\n",
       "      <td>RMorel</td>\n",
       "    </tr>\n",
       "  </tbody>\n",
       "</table>\n",
       "</div>"
      ],
      "text/plain": [
       "         CaseNumber               Location           Reported Date  Month  \\\n",
       "5694  2022-00043755  0 Block MONTICELLO ST  06/04/2022 12:12:00 AM      6   \n",
       "\n",
       "      Year        Offense Desc Statute Code        Statute Desc  Counts  \\\n",
       "5694  2022  Disorderly Conduct      11-45-1  DISORDERLY CONDUCT       1   \n",
       "\n",
       "     Reporting Officer  \n",
       "5694            RMorel  "
      ]
     },
     "execution_count": 4,
     "metadata": {},
     "output_type": "execute_result"
    }
   ],
   "source": [
    "df_case[df_case['CaseNumber'] == '2022-00043755']"
   ]
  },
  {
   "cell_type": "code",
   "execution_count": null,
   "id": "6a757c22",
   "metadata": {},
   "outputs": [],
   "source": []
  }
 ],
 "metadata": {
  "kernelspec": {
   "display_name": "Python 3",
   "language": "python",
   "name": "python3"
  },
  "language_info": {
   "codemirror_mode": {
    "name": "ipython",
    "version": 3
   },
   "file_extension": ".py",
   "mimetype": "text/x-python",
   "name": "python",
   "nbconvert_exporter": "python",
   "pygments_lexer": "ipython3",
   "version": "3.8.8"
  }
 },
 "nbformat": 4,
 "nbformat_minor": 5
}
