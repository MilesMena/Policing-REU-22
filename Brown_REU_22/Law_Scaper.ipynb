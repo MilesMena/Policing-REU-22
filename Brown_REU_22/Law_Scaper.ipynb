{
 "cells": [
  {
   "cell_type": "code",
   "execution_count": 1,
   "id": "fd47ff38",
   "metadata": {},
   "outputs": [],
   "source": [
    "import pandas as pd\n",
    "from bs4 import BeautifulSoup as bs\n",
    "import requests\n",
    "import re"
   ]
  },
  {
   "cell_type": "code",
   "execution_count": 3,
   "id": "3b37244e",
   "metadata": {},
   "outputs": [],
   "source": [
    "# load from webpage\n",
    "url = 'http://webserver.rilin.state.ri.us/Statutes/'\n",
    "r = requests.get(url)\n",
    "# convert to a beautiful soup object\n",
    "soup = bs(r.content)"
   ]
  },
  {
   "cell_type": "code",
   "execution_count": 5,
   "id": "40282140",
   "metadata": {},
   "outputs": [
    {
     "data": {
      "text/plain": [
       "<title>The State of Rhode Island General Laws</title>"
      ]
     },
     "execution_count": 5,
     "metadata": {},
     "output_type": "execute_result"
    }
   ],
   "source": [
    "soup.title"
   ]
  },
  {
   "cell_type": "code",
   "execution_count": null,
   "id": "6856edab",
   "metadata": {},
   "outputs": [],
   "source": [
    "soup.find_all()"
   ]
  }
 ],
 "metadata": {
  "kernelspec": {
   "display_name": "Python 3",
   "language": "python",
   "name": "python3"
  },
  "language_info": {
   "codemirror_mode": {
    "name": "ipython",
    "version": 3
   },
   "file_extension": ".py",
   "mimetype": "text/x-python",
   "name": "python",
   "nbconvert_exporter": "python",
   "pygments_lexer": "ipython3",
   "version": "3.8.8"
  }
 },
 "nbformat": 4,
 "nbformat_minor": 5
}
